{
 "cells": [
  {
   "cell_type": "markdown",
   "metadata": {},
   "source": [
    "Impoting the libraries"
   ]
  },
  {
   "cell_type": "code",
   "execution_count": 1,
   "metadata": {},
   "outputs": [],
   "source": [
    "import pandas as pd\n",
    "import numpy as np\n",
    "import matplotlib.pyplot as plt\n",
    "import seaborn as sns"
   ]
  },
  {
   "cell_type": "markdown",
   "metadata": {},
   "source": [
    "Importing the data"
   ]
  },
  {
   "cell_type": "code",
   "execution_count": 3,
   "metadata": {},
   "outputs": [
    {
     "data": {
      "text/html": [
       "<div>\n",
       "<style scoped>\n",
       "    .dataframe tbody tr th:only-of-type {\n",
       "        vertical-align: middle;\n",
       "    }\n",
       "\n",
       "    .dataframe tbody tr th {\n",
       "        vertical-align: top;\n",
       "    }\n",
       "\n",
       "    .dataframe thead th {\n",
       "        text-align: right;\n",
       "    }\n",
       "</style>\n",
       "<table border=\"1\" class=\"dataframe\">\n",
       "  <thead>\n",
       "    <tr style=\"text-align: right;\">\n",
       "      <th></th>\n",
       "      <th>Rank</th>\n",
       "      <th>Name</th>\n",
       "      <th>Platform</th>\n",
       "      <th>Year</th>\n",
       "      <th>Genre</th>\n",
       "      <th>Publisher</th>\n",
       "      <th>NA_Sales</th>\n",
       "      <th>EU_Sales</th>\n",
       "      <th>JP_Sales</th>\n",
       "      <th>Other_Sales</th>\n",
       "      <th>Global_Sales</th>\n",
       "    </tr>\n",
       "  </thead>\n",
       "  <tbody>\n",
       "    <tr>\n",
       "      <th>0</th>\n",
       "      <td>2061</td>\n",
       "      <td>1942</td>\n",
       "      <td>NES</td>\n",
       "      <td>1985.0</td>\n",
       "      <td>Shooter</td>\n",
       "      <td>Capcom</td>\n",
       "      <td>4.569217</td>\n",
       "      <td>3.033887</td>\n",
       "      <td>3.439352</td>\n",
       "      <td>1.991671</td>\n",
       "      <td>12.802935</td>\n",
       "    </tr>\n",
       "    <tr>\n",
       "      <th>1</th>\n",
       "      <td>9137</td>\n",
       "      <td>¡Shin Chan Flipa en colores!</td>\n",
       "      <td>DS</td>\n",
       "      <td>2007.0</td>\n",
       "      <td>Platform</td>\n",
       "      <td>505 Games</td>\n",
       "      <td>2.076955</td>\n",
       "      <td>1.493442</td>\n",
       "      <td>3.033887</td>\n",
       "      <td>0.394830</td>\n",
       "      <td>7.034163</td>\n",
       "    </tr>\n",
       "    <tr>\n",
       "      <th>2</th>\n",
       "      <td>14279</td>\n",
       "      <td>.hack: Sekai no Mukou ni + Versus</td>\n",
       "      <td>PS3</td>\n",
       "      <td>2012.0</td>\n",
       "      <td>Action</td>\n",
       "      <td>Namco Bandai Games</td>\n",
       "      <td>1.145709</td>\n",
       "      <td>1.762339</td>\n",
       "      <td>1.493442</td>\n",
       "      <td>0.408693</td>\n",
       "      <td>4.982552</td>\n",
       "    </tr>\n",
       "    <tr>\n",
       "      <th>3</th>\n",
       "      <td>8359</td>\n",
       "      <td>.hack//G.U. Vol.1//Rebirth</td>\n",
       "      <td>PS2</td>\n",
       "      <td>2006.0</td>\n",
       "      <td>Role-Playing</td>\n",
       "      <td>Namco Bandai Games</td>\n",
       "      <td>2.031986</td>\n",
       "      <td>1.389856</td>\n",
       "      <td>3.228043</td>\n",
       "      <td>0.394830</td>\n",
       "      <td>7.226880</td>\n",
       "    </tr>\n",
       "    <tr>\n",
       "      <th>4</th>\n",
       "      <td>7109</td>\n",
       "      <td>.hack//G.U. Vol.2//Reminisce</td>\n",
       "      <td>PS2</td>\n",
       "      <td>2006.0</td>\n",
       "      <td>Role-Playing</td>\n",
       "      <td>Namco Bandai Games</td>\n",
       "      <td>2.792725</td>\n",
       "      <td>2.592054</td>\n",
       "      <td>1.440483</td>\n",
       "      <td>1.493442</td>\n",
       "      <td>8.363113</td>\n",
       "    </tr>\n",
       "    <tr>\n",
       "      <th>...</th>\n",
       "      <td>...</td>\n",
       "      <td>...</td>\n",
       "      <td>...</td>\n",
       "      <td>...</td>\n",
       "      <td>...</td>\n",
       "      <td>...</td>\n",
       "      <td>...</td>\n",
       "      <td>...</td>\n",
       "      <td>...</td>\n",
       "      <td>...</td>\n",
       "      <td>...</td>\n",
       "    </tr>\n",
       "    <tr>\n",
       "      <th>16647</th>\n",
       "      <td>7925</td>\n",
       "      <td>Zumba Fitness Rush</td>\n",
       "      <td>X360</td>\n",
       "      <td>2012.0</td>\n",
       "      <td>Sports</td>\n",
       "      <td>505 Games</td>\n",
       "      <td>4.409308</td>\n",
       "      <td>3.167419</td>\n",
       "      <td>4.168474</td>\n",
       "      <td>1.087977</td>\n",
       "      <td>13.053204</td>\n",
       "    </tr>\n",
       "    <tr>\n",
       "      <th>16648</th>\n",
       "      <td>6279</td>\n",
       "      <td>Zumba Fitness: World Party</td>\n",
       "      <td>Wii</td>\n",
       "      <td>2013.0</td>\n",
       "      <td>Misc</td>\n",
       "      <td>Majesco Entertainment</td>\n",
       "      <td>3.033887</td>\n",
       "      <td>2.792725</td>\n",
       "      <td>1.596852</td>\n",
       "      <td>1.493442</td>\n",
       "      <td>8.878837</td>\n",
       "    </tr>\n",
       "    <tr>\n",
       "      <th>16649</th>\n",
       "      <td>6977</td>\n",
       "      <td>Zumba Fitness: World Party</td>\n",
       "      <td>XOne</td>\n",
       "      <td>2013.0</td>\n",
       "      <td>Misc</td>\n",
       "      <td>Majesco Entertainment</td>\n",
       "      <td>3.228043</td>\n",
       "      <td>2.004268</td>\n",
       "      <td>1.833151</td>\n",
       "      <td>1.087977</td>\n",
       "      <td>7.954274</td>\n",
       "    </tr>\n",
       "    <tr>\n",
       "      <th>16650</th>\n",
       "      <td>15422</td>\n",
       "      <td>Zwei!!</td>\n",
       "      <td>PSP</td>\n",
       "      <td>2008.0</td>\n",
       "      <td>Role-Playing</td>\n",
       "      <td>Falcom Corporation</td>\n",
       "      <td>1.087977</td>\n",
       "      <td>0.592445</td>\n",
       "      <td>1.087977</td>\n",
       "      <td>0.394830</td>\n",
       "      <td>3.509168</td>\n",
       "    </tr>\n",
       "    <tr>\n",
       "      <th>16651</th>\n",
       "      <td>12919</td>\n",
       "      <td>Zyuden Sentai Kyoryuger: Game de Gaburincho!!</td>\n",
       "      <td>3DS</td>\n",
       "      <td>2013.0</td>\n",
       "      <td>Action</td>\n",
       "      <td>Namco Bandai Games</td>\n",
       "      <td>1.081046</td>\n",
       "      <td>1.714664</td>\n",
       "      <td>2.004268</td>\n",
       "      <td>0.394830</td>\n",
       "      <td>5.132196</td>\n",
       "    </tr>\n",
       "  </tbody>\n",
       "</table>\n",
       "<p>16652 rows × 11 columns</p>\n",
       "</div>"
      ],
      "text/plain": [
       "        Rank                                           Name Platform    Year  \\\n",
       "0       2061                                           1942      NES  1985.0   \n",
       "1       9137                   ¡Shin Chan Flipa en colores!       DS  2007.0   \n",
       "2      14279              .hack: Sekai no Mukou ni + Versus      PS3  2012.0   \n",
       "3       8359                     .hack//G.U. Vol.1//Rebirth      PS2  2006.0   \n",
       "4       7109                   .hack//G.U. Vol.2//Reminisce      PS2  2006.0   \n",
       "...      ...                                            ...      ...     ...   \n",
       "16647   7925                             Zumba Fitness Rush     X360  2012.0   \n",
       "16648   6279                     Zumba Fitness: World Party      Wii  2013.0   \n",
       "16649   6977                     Zumba Fitness: World Party     XOne  2013.0   \n",
       "16650  15422                                         Zwei!!      PSP  2008.0   \n",
       "16651  12919  Zyuden Sentai Kyoryuger: Game de Gaburincho!!      3DS  2013.0   \n",
       "\n",
       "              Genre              Publisher  NA_Sales  EU_Sales  JP_Sales  \\\n",
       "0           Shooter                 Capcom  4.569217  3.033887  3.439352   \n",
       "1          Platform              505 Games  2.076955  1.493442  3.033887   \n",
       "2            Action     Namco Bandai Games  1.145709  1.762339  1.493442   \n",
       "3      Role-Playing     Namco Bandai Games  2.031986  1.389856  3.228043   \n",
       "4      Role-Playing     Namco Bandai Games  2.792725  2.592054  1.440483   \n",
       "...             ...                    ...       ...       ...       ...   \n",
       "16647        Sports              505 Games  4.409308  3.167419  4.168474   \n",
       "16648          Misc  Majesco Entertainment  3.033887  2.792725  1.596852   \n",
       "16649          Misc  Majesco Entertainment  3.228043  2.004268  1.833151   \n",
       "16650  Role-Playing     Falcom Corporation  1.087977  0.592445  1.087977   \n",
       "16651        Action     Namco Bandai Games  1.081046  1.714664  2.004268   \n",
       "\n",
       "       Other_Sales  Global_Sales  \n",
       "0         1.991671     12.802935  \n",
       "1         0.394830      7.034163  \n",
       "2         0.408693      4.982552  \n",
       "3         0.394830      7.226880  \n",
       "4         1.493442      8.363113  \n",
       "...            ...           ...  \n",
       "16647     1.087977     13.053204  \n",
       "16648     1.493442      8.878837  \n",
       "16649     1.087977      7.954274  \n",
       "16650     0.394830      3.509168  \n",
       "16651     0.394830      5.132196  \n",
       "\n",
       "[16652 rows x 11 columns]"
      ]
     },
     "execution_count": 3,
     "metadata": {},
     "output_type": "execute_result"
    }
   ],
   "source": [
    "df = pd.read_csv(\"./data/final_vg.csv\")\n",
    "df"
   ]
  },
  {
   "cell_type": "markdown",
   "metadata": {},
   "source": [
    "Getting to know the data"
   ]
  },
  {
   "cell_type": "code",
   "execution_count": 5,
   "metadata": {},
   "outputs": [
    {
     "data": {
      "text/plain": [
       "(16652, 11)"
      ]
     },
     "execution_count": 5,
     "metadata": {},
     "output_type": "execute_result"
    }
   ],
   "source": [
    "df.shape"
   ]
  },
  {
   "cell_type": "code",
   "execution_count": 4,
   "metadata": {},
   "outputs": [
    {
     "name": "stdout",
     "output_type": "stream",
     "text": [
      "<class 'pandas.core.frame.DataFrame'>\n",
      "RangeIndex: 16652 entries, 0 to 16651\n",
      "Data columns (total 11 columns):\n",
      " #   Column        Non-Null Count  Dtype  \n",
      "---  ------        --------------  -----  \n",
      " 0   Rank          16652 non-null  int64  \n",
      " 1   Name          16652 non-null  object \n",
      " 2   Platform      16652 non-null  object \n",
      " 3   Year          16381 non-null  float64\n",
      " 4   Genre         16652 non-null  object \n",
      " 5   Publisher     16594 non-null  object \n",
      " 6   NA_Sales      16652 non-null  float64\n",
      " 7   EU_Sales      16652 non-null  float64\n",
      " 8   JP_Sales      16652 non-null  float64\n",
      " 9   Other_Sales   16652 non-null  float64\n",
      " 10  Global_Sales  16652 non-null  float64\n",
      "dtypes: float64(6), int64(1), object(4)\n",
      "memory usage: 1.4+ MB\n"
     ]
    }
   ],
   "source": [
    "df.info()"
   ]
  },
  {
   "cell_type": "markdown",
   "metadata": {},
   "source": [
    "how many nulls are present"
   ]
  },
  {
   "cell_type": "code",
   "execution_count": 11,
   "metadata": {},
   "outputs": [
    {
     "data": {
      "text/plain": [
       "Rank            0.000000\n",
       "Name            0.000000\n",
       "Platform        0.000000\n",
       "Year            0.016274\n",
       "Genre           0.000000\n",
       "Publisher       0.003483\n",
       "NA_Sales        0.000000\n",
       "EU_Sales        0.000000\n",
       "JP_Sales        0.000000\n",
       "Other_Sales     0.000000\n",
       "Global_Sales    0.000000\n",
       "dtype: float64"
      ]
     },
     "execution_count": 11,
     "metadata": {},
     "output_type": "execute_result"
    }
   ],
   "source": [
    "df.isnull().sum()\n"
   ]
  },
  {
   "cell_type": "code",
   "execution_count": 12,
   "metadata": {},
   "outputs": [
    {
     "data": {
      "text/plain": [
       "Rank            0.000000\n",
       "Name            0.000000\n",
       "Platform        0.000000\n",
       "Year            1.627432\n",
       "Genre           0.000000\n",
       "Publisher       0.348307\n",
       "NA_Sales        0.000000\n",
       "EU_Sales        0.000000\n",
       "JP_Sales        0.000000\n",
       "Other_Sales     0.000000\n",
       "Global_Sales    0.000000\n",
       "dtype: float64"
      ]
     },
     "execution_count": 12,
     "metadata": {},
     "output_type": "execute_result"
    }
   ],
   "source": [
    "100*(df.isnull().sum())/df.shape[0]"
   ]
  },
  {
   "cell_type": "markdown",
   "metadata": {},
   "source": [
    "since the nulls is very small percent of the whole data, we can drop them"
   ]
  },
  {
   "cell_type": "code",
   "execution_count": 13,
   "metadata": {},
   "outputs": [],
   "source": [
    "df_final = df.dropna(axis= 0, how= \"any\")"
   ]
  },
  {
   "cell_type": "code",
   "execution_count": 14,
   "metadata": {},
   "outputs": [
    {
     "data": {
      "text/plain": [
       "Rank            0\n",
       "Name            0\n",
       "Platform        0\n",
       "Year            0\n",
       "Genre           0\n",
       "Publisher       0\n",
       "NA_Sales        0\n",
       "EU_Sales        0\n",
       "JP_Sales        0\n",
       "Other_Sales     0\n",
       "Global_Sales    0\n",
       "dtype: int64"
      ]
     },
     "execution_count": 14,
     "metadata": {},
     "output_type": "execute_result"
    }
   ],
   "source": [
    "df_final.isnull().sum()"
   ]
  },
  {
   "cell_type": "markdown",
   "metadata": {},
   "source": [
    "Univariate analysis"
   ]
  },
  {
   "cell_type": "markdown",
   "metadata": {},
   "source": [
    "which genre is the most popular"
   ]
  },
  {
   "cell_type": "code",
   "execution_count": 17,
   "metadata": {},
   "outputs": [],
   "source": [
    "cat_count = df[\"Genre\"].value_counts()"
   ]
  },
  {
   "cell_type": "code",
   "execution_count": 21,
   "metadata": {},
   "outputs": [],
   "source": [
    "x_bar = cat_count.index\n",
    "y_bar =  cat_count\n"
   ]
  },
  {
   "cell_type": "code",
   "execution_count": 22,
   "metadata": {},
   "outputs": [
    {
     "data": {
      "image/png": "[encoded data removed]",
      "text/plain": [
       "<Figure size 1200x1000 with 1 Axes>"
      ]
     },
     "metadata": {},
     "output_type": "display_data"
    }
   ],
   "source": [
    "plt.figure(figsize= (12,10))\n",
    "plt.bar(x_bar, y_bar)\n",
    "plt.show()"
   ]
  }
 ],
 "metadata": {
  "kernelspec": {
   "display_name": "ds-work",
   "language": "python",
   "name": "python3"
  },
  "language_info": {
   "codemirror_mode": {
    "name": "ipython",
    "version": 3
   },
   "file_extension": ".py",
   "mimetype": "text/x-python",
   "name": "python",
   "nbconvert_exporter": "python",
   "pygments_lexer": "ipython3",
   "version": "3.10.11"
  },
  "orig_nbformat": 4
 },
 "nbformat": 4,
 "nbformat_minor": 2
}
